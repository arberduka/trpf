{
 "cells": [
  {
   "cell_type": "markdown",
   "metadata": {},
   "source": [
    "# TRPF Simulator Example"
   ]
  },
  {
   "cell_type": "code",
   "execution_count": 1,
   "metadata": {
    "scrolled": false
   },
   "outputs": [],
   "source": [
    "# If changes are made to modules, kernel must be restarted\n",
    "import simulator.netlist as nl\n",
    "import simulator.simulator as trpfsim\n",
    "from IPython.display import Image\n"
   ]
  },
  {
   "cell_type": "markdown",
   "metadata": {},
   "source": [
    "## Loading the netlist"
   ]
  },
  {
   "cell_type": "code",
   "execution_count": 4,
   "metadata": {
    "scrolled": true
   },
   "outputs": [
    {
     "name": "stdout",
     "output_type": "stream",
     "text": [
      "{'name': 'pigou_single', 'graph':   node 1 node 2   fft  ddt\n",
      "0      s      a  20.0  0.0\n",
      "1      s      b  20.0  0.0\n",
      "2      a      c  20.0  0.0\n",
      "3      b      d  20.0  0.0\n",
      "4      a      d   0.0  0.1\n",
      "5      d      e  20.0  0.0\n",
      "6      c      e  20.0  0.0, 'routes': {0: [['s', 'a', 'c', 'e'], ['s', 'b', 'd', 'e'], ['s', 'a', 'd', 'e']]}, 'thresholds': [[5, 20, 50], [10, 20, 50], [15, 20, 50], [10, 10, 50], [10, 20, 50], [10, 30, 50], [10, 20, 25], [10, 20, 50], [10, 20, 75], [10, 20, 50], [10, 20, 50], [10, 20, 50], [10, 20, 50], [10, 20, 50], [10, 20, 50], [10, 20, 50], [10, 20, 50], [10, 20, 50]], 'weights': [[3, 5, 7], [3, 5, 7], [3, 5, 7], [3, 5, 7], [3, 5, 7], [3, 5, 7], [3, 5, 7], [3, 5, 7], [3, 5, 7], [1, 5, 7], [3, 5, 7], [5, 5, 7], [3, 3, 7], [3, 5, 7], [3, 7, 7], [3, 5, 5], [3, 5, 7], [3, 5, 9]], 'trpf': {'g': [0.5], 't': [3], 'p': [0.7]}, 'trips': ['SE', 'Overall'], 'agents': [200], 'optimums': {0: [125, 0, 75]}, 'steps': 200}\n"
     ]
    }
   ],
   "source": [
    "# The netlist is loaded from the /netlists directory\n",
    "# nl.show('example')\n",
    "properties = nl.load('pigou_single')\n",
    "# Draws a network graph from the properties dict\n",
    "nl.draw(properties, 'network.png')\n",
    "Image(filename='network.png')\n",
    "print(properties)"
   ]
  },
  {
   "cell_type": "markdown",
   "metadata": {
    "collapsed": true
   },
   "source": [
    "## Running the simulation"
   ]
  },
  {
   "cell_type": "code",
   "execution_count": 7,
   "metadata": {},
   "outputs": [
    {
     "name": "stdout",
     "output_type": "stream",
     "text": [
      "**************************  ---------SE---------- -------OVERALL-------\n",
      "       weights   G   T   P       mean        std       mean        std\n",
      " 5:3|20:5|50:7 0.5   3 0.7  55.385165   0.234723  55.385165   0.234723\n",
      "10:3|20:5|50:7 0.5   3 0.7   55.31873   0.205963   55.31873   0.205963\n",
      "15:3|20:5|50:7 0.5   3 0.7    55.2667   0.190664    55.2667   0.190664\n",
      "10:3|10:5|50:7 0.5   3 0.7   55.55156   0.392825   55.55156   0.392825\n",
      "10:3|20:5|50:7 0.5   3 0.7  55.416685   0.287285  55.416685   0.287285\n",
      "10:3|30:5|50:7 0.5   3 0.7   55.54895   0.328293   55.54895   0.328293\n",
      "10:3|20:5|25:7 0.5   3 0.7  55.380675    0.24278  55.380675    0.24278\n",
      "10:3|20:5|50:7 0.5   3 0.7   55.57953   0.386918   55.57953   0.386918\n",
      "10:3|20:5|75:7 0.5   3 0.7  55.527565   0.406781  55.527565   0.406781\n",
      "10:1|20:5|50:7 0.5   3 0.7    55.2901   0.188991    55.2901   0.188991\n",
      "10:3|20:5|50:7 0.5   3 0.7   55.52115   0.331662   55.52115   0.331662\n",
      "10:5|20:5|50:7 0.5   3 0.7  55.356485   0.227106  55.356485   0.227106\n",
      "10:3|20:3|50:7 0.5   3 0.7   55.56841   0.362381   55.56841   0.362381\n",
      "10:3|20:5|50:7 0.5   3 0.7  55.606435   0.404887  55.606435   0.404887\n",
      "10:3|20:7|50:7 0.5   3 0.7   55.61944   0.426178   55.61944   0.426178\n",
      "10:3|20:5|50:5 0.5   3 0.7   55.51878   0.342686   55.51878   0.342686\n",
      "10:3|20:5|50:7 0.5   3 0.7  55.638285   0.422326  55.638285   0.422326\n",
      "10:3|20:5|50:9 0.5   3 0.7  55.467105   0.330709  55.467105   0.330709\n"
     ]
    }
   ],
   "source": [
    "# The xlsx filename can be set to any string\n",
    "# If filename is None, it defaults to the netlist name prefixed by the ISO datetime\n",
    "# 'show' prints the output to stdout\n",
    "# 'save' determines the the resulting xlsx is saved\n",
    "trpfsim.run(properties, filename=\"Test\", show=True, save=True)\n",
    "\n",
    "# After running, the results appear in the /outputs directory"
   ]
  },
  {
   "cell_type": "code",
   "execution_count": null,
   "metadata": {
    "collapsed": true
   },
   "outputs": [],
   "source": []
  }
 ],
 "metadata": {
  "kernelspec": {
   "display_name": "Python 3",
   "language": "python",
   "name": "python3"
  },
  "language_info": {
   "codemirror_mode": {
    "name": "ipython",
    "version": 3
   },
   "file_extension": ".py",
   "mimetype": "text/x-python",
   "name": "python",
   "nbconvert_exporter": "python",
   "pygments_lexer": "ipython3",
   "version": "3.6.1"
  }
 },
 "nbformat": 4,
 "nbformat_minor": 2
}
